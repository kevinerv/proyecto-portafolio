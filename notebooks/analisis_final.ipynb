{
 "cells": [
  {
   "cell_type": "markdown",
   "metadata": {},
   "source": [
    "# Analisis Exploratorio de Datos\n",
    "En este Notebook se realiza un analisis exploratorio de datos sobre un dataset que contiene datos que cubren las 5 mejores ligas de futbol de Europa de 2014 a 2020. Está estructurada como una base de datos relacional.\n",
    "\n",
    "  * **apariciones**, Every appearance a player has made in one of the Top5 leagues over the specified time      window \n",
    "  * **juegos**, All games played in one of the Top5 leagues over the specified time window\n",
    "  * **equipos**, Game statistics by team in one of the Top5 leagues over the specified time window\n",
    "  \n",
    "  Las etapas que se siguen son las siguientes: \n",
    "  1. Combinación/Reducción de tablas (ver notebook de analisis inicial) \n",
    "  1. Importación de librerias\n",
    "  1. Carga tablas finales\n",
    "  1. Exploración de los datos\n",
    "  1. Formulación de preguntas\n",
    "  1. EDA\n"
   ]
  },
  {
   "cell_type": "markdown",
   "metadata": {},
   "source": [
    "## 2. Importación de librerias "
   ]
  },
  {
   "cell_type": "markdown",
   "metadata": {},
   "source": [
    "\n"
   ]
  },
  {
   "cell_type": "code",
   "execution_count": 43,
   "metadata": {},
   "outputs": [],
   "source": [
    "import pandas as pd\n",
    "import matplotlib.pyplot as plt\n",
    "from matplotlib import rc"
   ]
  },
  {
   "cell_type": "markdown",
   "metadata": {},
   "source": [
    "## 3. Carga de tablas finales"
   ]
  },
  {
   "cell_type": "markdown",
   "metadata": {},
   "source": [
    "### Tabla apariciones\n"
   ]
  },
  {
   "cell_type": "code",
   "execution_count": 4,
   "metadata": {},
   "outputs": [
    {
     "data": {
      "text/html": [
       "<div>\n",
       "<style scoped>\n",
       "    .dataframe tbody tr th:only-of-type {\n",
       "        vertical-align: middle;\n",
       "    }\n",
       "\n",
       "    .dataframe tbody tr th {\n",
       "        vertical-align: top;\n",
       "    }\n",
       "\n",
       "    .dataframe thead th {\n",
       "        text-align: right;\n",
       "    }\n",
       "</style>\n",
       "<table border=\"1\" class=\"dataframe\">\n",
       "  <thead>\n",
       "    <tr style=\"text-align: right;\">\n",
       "      <th></th>\n",
       "      <th>gameID</th>\n",
       "      <th>goals</th>\n",
       "      <th>ownGoals</th>\n",
       "      <th>shots</th>\n",
       "      <th>xGoals</th>\n",
       "      <th>xGoalsChain</th>\n",
       "      <th>xGoalsBuildup</th>\n",
       "      <th>assists</th>\n",
       "      <th>keyPasses</th>\n",
       "      <th>xAssists</th>\n",
       "      <th>...</th>\n",
       "      <th>positionOrder</th>\n",
       "      <th>yellowCard</th>\n",
       "      <th>redCard</th>\n",
       "      <th>time</th>\n",
       "      <th>substituteIn</th>\n",
       "      <th>substituteOut</th>\n",
       "      <th>name_player</th>\n",
       "      <th>name_league</th>\n",
       "      <th>season</th>\n",
       "      <th>date</th>\n",
       "    </tr>\n",
       "  </thead>\n",
       "  <tbody>\n",
       "    <tr>\n",
       "      <th>0</th>\n",
       "      <td>81</td>\n",
       "      <td>0</td>\n",
       "      <td>0</td>\n",
       "      <td>0</td>\n",
       "      <td>0.0</td>\n",
       "      <td>0.000000</td>\n",
       "      <td>0.000000</td>\n",
       "      <td>0</td>\n",
       "      <td>0</td>\n",
       "      <td>0.0</td>\n",
       "      <td>...</td>\n",
       "      <td>1</td>\n",
       "      <td>0</td>\n",
       "      <td>0</td>\n",
       "      <td>90</td>\n",
       "      <td>0</td>\n",
       "      <td>0</td>\n",
       "      <td>Sergio Romero</td>\n",
       "      <td>Premier League</td>\n",
       "      <td>2015</td>\n",
       "      <td>2015-08-08 15:45:00</td>\n",
       "    </tr>\n",
       "    <tr>\n",
       "      <th>1</th>\n",
       "      <td>91</td>\n",
       "      <td>0</td>\n",
       "      <td>0</td>\n",
       "      <td>0</td>\n",
       "      <td>0.0</td>\n",
       "      <td>0.058938</td>\n",
       "      <td>0.058938</td>\n",
       "      <td>0</td>\n",
       "      <td>0</td>\n",
       "      <td>0.0</td>\n",
       "      <td>...</td>\n",
       "      <td>1</td>\n",
       "      <td>0</td>\n",
       "      <td>0</td>\n",
       "      <td>90</td>\n",
       "      <td>0</td>\n",
       "      <td>0</td>\n",
       "      <td>Sergio Romero</td>\n",
       "      <td>Premier League</td>\n",
       "      <td>2015</td>\n",
       "      <td>2015-08-14 22:45:00</td>\n",
       "    </tr>\n",
       "  </tbody>\n",
       "</table>\n",
       "<p>2 rows × 21 columns</p>\n",
       "</div>"
      ],
      "text/plain": [
       "   gameID  goals  ownGoals  shots  xGoals  xGoalsChain  xGoalsBuildup  \\\n",
       "0      81      0         0      0     0.0     0.000000       0.000000   \n",
       "1      91      0         0      0     0.0     0.058938       0.058938   \n",
       "\n",
       "   assists  keyPasses  xAssists  ... positionOrder  yellowCard  redCard  time  \\\n",
       "0        0          0       0.0  ...             1           0        0    90   \n",
       "1        0          0       0.0  ...             1           0        0    90   \n",
       "\n",
       "   substituteIn  substituteOut    name_player     name_league season  \\\n",
       "0             0              0  Sergio Romero  Premier League   2015   \n",
       "1             0              0  Sergio Romero  Premier League   2015   \n",
       "\n",
       "                  date  \n",
       "0  2015-08-08 15:45:00  \n",
       "1  2015-08-14 22:45:00  \n",
       "\n",
       "[2 rows x 21 columns]"
      ]
     },
     "execution_count": 4,
     "metadata": {},
     "output_type": "execute_result"
    }
   ],
   "source": [
    "apariciones=pd.read_csv('./../datos/appearances_leagues_games.csv')\n",
    "apariciones.head(2)"
   ]
  },
  {
   "cell_type": "markdown",
   "metadata": {},
   "source": [
    "### Tabla juegos"
   ]
  },
  {
   "cell_type": "code",
   "execution_count": 5,
   "metadata": {},
   "outputs": [
    {
     "data": {
      "text/html": [
       "<div>\n",
       "<style scoped>\n",
       "    .dataframe tbody tr th:only-of-type {\n",
       "        vertical-align: middle;\n",
       "    }\n",
       "\n",
       "    .dataframe tbody tr th {\n",
       "        vertical-align: top;\n",
       "    }\n",
       "\n",
       "    .dataframe thead th {\n",
       "        text-align: right;\n",
       "    }\n",
       "</style>\n",
       "<table border=\"1\" class=\"dataframe\">\n",
       "  <thead>\n",
       "    <tr style=\"text-align: right;\">\n",
       "      <th></th>\n",
       "      <th>gameID</th>\n",
       "      <th>season</th>\n",
       "      <th>date</th>\n",
       "      <th>homeGoals</th>\n",
       "      <th>awayGoals</th>\n",
       "      <th>homeProbability</th>\n",
       "      <th>drawProbability</th>\n",
       "      <th>awayProbability</th>\n",
       "      <th>homeGoalsHalfTime</th>\n",
       "      <th>awayGoalsHalfTime</th>\n",
       "      <th>name_league</th>\n",
       "      <th>homeTeam</th>\n",
       "      <th>awayTeam</th>\n",
       "    </tr>\n",
       "  </thead>\n",
       "  <tbody>\n",
       "    <tr>\n",
       "      <th>0</th>\n",
       "      <td>81</td>\n",
       "      <td>2015</td>\n",
       "      <td>2015-08-08 15:45:00</td>\n",
       "      <td>1</td>\n",
       "      <td>0</td>\n",
       "      <td>0.2843</td>\n",
       "      <td>0.3999</td>\n",
       "      <td>0.3158</td>\n",
       "      <td>1</td>\n",
       "      <td>0</td>\n",
       "      <td>Premier League</td>\n",
       "      <td>Manchester United</td>\n",
       "      <td>Tottenham</td>\n",
       "    </tr>\n",
       "    <tr>\n",
       "      <th>1</th>\n",
       "      <td>3122</td>\n",
       "      <td>2016</td>\n",
       "      <td>2016-12-11 18:15:00</td>\n",
       "      <td>1</td>\n",
       "      <td>0</td>\n",
       "      <td>0.4325</td>\n",
       "      <td>0.3292</td>\n",
       "      <td>0.2383</td>\n",
       "      <td>1</td>\n",
       "      <td>0</td>\n",
       "      <td>Premier League</td>\n",
       "      <td>Manchester United</td>\n",
       "      <td>Tottenham</td>\n",
       "    </tr>\n",
       "  </tbody>\n",
       "</table>\n",
       "</div>"
      ],
      "text/plain": [
       "   gameID  season                 date  homeGoals  awayGoals  homeProbability  \\\n",
       "0      81    2015  2015-08-08 15:45:00          1          0           0.2843   \n",
       "1    3122    2016  2016-12-11 18:15:00          1          0           0.4325   \n",
       "\n",
       "   drawProbability  awayProbability  homeGoalsHalfTime  awayGoalsHalfTime  \\\n",
       "0           0.3999           0.3158                  1                  0   \n",
       "1           0.3292           0.2383                  1                  0   \n",
       "\n",
       "      name_league           homeTeam   awayTeam  \n",
       "0  Premier League  Manchester United  Tottenham  \n",
       "1  Premier League  Manchester United  Tottenham  "
      ]
     },
     "execution_count": 5,
     "metadata": {},
     "output_type": "execute_result"
    }
   ],
   "source": [
    "juegos=pd.read_csv('./../datos/games_leagues_teams.csv')\n",
    "juegos.head(2)"
   ]
  },
  {
   "cell_type": "markdown",
   "metadata": {},
   "source": [
    "### Tabla equipos"
   ]
  },
  {
   "cell_type": "code",
   "execution_count": 6,
   "metadata": {},
   "outputs": [
    {
     "data": {
      "text/html": [
       "<div>\n",
       "<style scoped>\n",
       "    .dataframe tbody tr th:only-of-type {\n",
       "        vertical-align: middle;\n",
       "    }\n",
       "\n",
       "    .dataframe tbody tr th {\n",
       "        vertical-align: top;\n",
       "    }\n",
       "\n",
       "    .dataframe thead th {\n",
       "        text-align: right;\n",
       "    }\n",
       "</style>\n",
       "<table border=\"1\" class=\"dataframe\">\n",
       "  <thead>\n",
       "    <tr style=\"text-align: right;\">\n",
       "      <th></th>\n",
       "      <th>gameID</th>\n",
       "      <th>season</th>\n",
       "      <th>date</th>\n",
       "      <th>location</th>\n",
       "      <th>goals</th>\n",
       "      <th>xGoals</th>\n",
       "      <th>shots</th>\n",
       "      <th>shotsOnTarget</th>\n",
       "      <th>deep</th>\n",
       "      <th>ppda</th>\n",
       "      <th>fouls</th>\n",
       "      <th>corners</th>\n",
       "      <th>yellowCards</th>\n",
       "      <th>redCards</th>\n",
       "      <th>result</th>\n",
       "      <th>name_team</th>\n",
       "      <th>name_league</th>\n",
       "    </tr>\n",
       "  </thead>\n",
       "  <tbody>\n",
       "    <tr>\n",
       "      <th>0</th>\n",
       "      <td>81</td>\n",
       "      <td>2015</td>\n",
       "      <td>2015-08-08 15:45:00</td>\n",
       "      <td>h</td>\n",
       "      <td>1</td>\n",
       "      <td>0.627539</td>\n",
       "      <td>9</td>\n",
       "      <td>1</td>\n",
       "      <td>4</td>\n",
       "      <td>13.8261</td>\n",
       "      <td>12</td>\n",
       "      <td>1</td>\n",
       "      <td>2.0</td>\n",
       "      <td>0</td>\n",
       "      <td>W</td>\n",
       "      <td>Manchester United</td>\n",
       "      <td>Premier League</td>\n",
       "    </tr>\n",
       "    <tr>\n",
       "      <th>1</th>\n",
       "      <td>81</td>\n",
       "      <td>2015</td>\n",
       "      <td>2015-08-08 15:45:00</td>\n",
       "      <td>a</td>\n",
       "      <td>0</td>\n",
       "      <td>0.674600</td>\n",
       "      <td>9</td>\n",
       "      <td>4</td>\n",
       "      <td>10</td>\n",
       "      <td>8.2188</td>\n",
       "      <td>12</td>\n",
       "      <td>2</td>\n",
       "      <td>3.0</td>\n",
       "      <td>0</td>\n",
       "      <td>L</td>\n",
       "      <td>Tottenham</td>\n",
       "      <td>Premier League</td>\n",
       "    </tr>\n",
       "  </tbody>\n",
       "</table>\n",
       "</div>"
      ],
      "text/plain": [
       "   gameID  season                 date location  goals    xGoals  shots  \\\n",
       "0      81    2015  2015-08-08 15:45:00        h      1  0.627539      9   \n",
       "1      81    2015  2015-08-08 15:45:00        a      0  0.674600      9   \n",
       "\n",
       "   shotsOnTarget  deep     ppda  fouls  corners  yellowCards  redCards result  \\\n",
       "0              1     4  13.8261     12        1          2.0         0      W   \n",
       "1              4    10   8.2188     12        2          3.0         0      L   \n",
       "\n",
       "           name_team     name_league  \n",
       "0  Manchester United  Premier League  \n",
       "1          Tottenham  Premier League  "
      ]
     },
     "execution_count": 6,
     "metadata": {},
     "output_type": "execute_result"
    }
   ],
   "source": [
    "equipos=pd.read_csv('./../datos/teamstats_teams.csv')\n",
    "equipos.head(2)"
   ]
  },
  {
   "cell_type": "markdown",
   "metadata": {},
   "source": [
    "##  4. Exploración de los datos "
   ]
  },
  {
   "cell_type": "code",
   "execution_count": 4,
   "metadata": {},
   "outputs": [
    {
     "data": {
      "text/plain": [
       "(356513, 21)"
      ]
     },
     "execution_count": 4,
     "metadata": {},
     "output_type": "execute_result"
    }
   ],
   "source": [
    "#forma de los datos\n",
    "apariciones.shape"
   ]
  },
  {
   "cell_type": "code",
   "execution_count": 77,
   "metadata": {},
   "outputs": [
    {
     "name": "stdout",
     "output_type": "stream",
     "text": [
      "<class 'pandas.core.frame.DataFrame'>\n",
      "RangeIndex: 356513 entries, 0 to 356512\n",
      "Data columns (total 21 columns):\n",
      " #   Column         Non-Null Count   Dtype  \n",
      "---  ------         --------------   -----  \n",
      " 0   gameID         356513 non-null  int64  \n",
      " 1   goals          356513 non-null  int64  \n",
      " 2   ownGoals       356513 non-null  int64  \n",
      " 3   shots          356513 non-null  int64  \n",
      " 4   xGoals         356513 non-null  float64\n",
      " 5   xGoalsChain    356513 non-null  float64\n",
      " 6   xGoalsBuildup  356513 non-null  float64\n",
      " 7   assists        356513 non-null  int64  \n",
      " 8   keyPasses      356513 non-null  int64  \n",
      " 9   xAssists       356513 non-null  float64\n",
      " 10  position       356513 non-null  object \n",
      " 11  positionOrder  356513 non-null  int64  \n",
      " 12  yellowCard     356513 non-null  int64  \n",
      " 13  redCard        356513 non-null  int64  \n",
      " 14  time           356513 non-null  int64  \n",
      " 15  substituteIn   356513 non-null  int64  \n",
      " 16  substituteOut  356513 non-null  int64  \n",
      " 17  name_player    356513 non-null  object \n",
      " 18  name_league    356513 non-null  object \n",
      " 19  season         356513 non-null  int64  \n",
      " 20  date           356513 non-null  object \n",
      "dtypes: float64(4), int64(13), object(4)\n",
      "memory usage: 57.1+ MB\n"
     ]
    }
   ],
   "source": [
    "apariciones.info()"
   ]
  },
  {
   "cell_type": "code",
   "execution_count": 72,
   "metadata": {},
   "outputs": [
    {
     "data": {
      "text/plain": [
       "(12680, 13)"
      ]
     },
     "execution_count": 72,
     "metadata": {},
     "output_type": "execute_result"
    }
   ],
   "source": [
    "#forma de los datos\n",
    "juegos.shape"
   ]
  },
  {
   "cell_type": "code",
   "execution_count": 73,
   "metadata": {},
   "outputs": [
    {
     "data": {
      "text/plain": [
       "gameID                 int64\n",
       "season                 int64\n",
       "date                  object\n",
       "homeGoals              int64\n",
       "awayGoals              int64\n",
       "homeProbability      float64\n",
       "drawProbability      float64\n",
       "awayProbability      float64\n",
       "homeGoalsHalfTime      int64\n",
       "awayGoalsHalfTime      int64\n",
       "name_league           object\n",
       "homeTeam              object\n",
       "awayTeam              object\n",
       "dtype: object"
      ]
     },
     "execution_count": 73,
     "metadata": {},
     "output_type": "execute_result"
    }
   ],
   "source": [
    "juegos.dtypes"
   ]
  },
  {
   "cell_type": "code",
   "execution_count": 74,
   "metadata": {},
   "outputs": [
    {
     "data": {
      "text/plain": [
       "(25360, 17)"
      ]
     },
     "execution_count": 74,
     "metadata": {},
     "output_type": "execute_result"
    }
   ],
   "source": [
    "equipos.shape"
   ]
  },
  {
   "cell_type": "code",
   "execution_count": 76,
   "metadata": {},
   "outputs": [
    {
     "data": {
      "text/plain": [
       "gameID             int64\n",
       "season             int64\n",
       "date              object\n",
       "location          object\n",
       "goals              int64\n",
       "xGoals           float64\n",
       "shots              int64\n",
       "shotsOnTarget      int64\n",
       "deep               int64\n",
       "ppda             float64\n",
       "fouls              int64\n",
       "corners            int64\n",
       "yellowCards      float64\n",
       "redCards           int64\n",
       "result            object\n",
       "name_team         object\n",
       "name_league       object\n",
       "dtype: object"
      ]
     },
     "execution_count": 76,
     "metadata": {},
     "output_type": "execute_result"
    }
   ],
   "source": [
    "equipos.dtypes"
   ]
  },
  {
   "cell_type": "markdown",
   "metadata": {},
   "source": [
    "## 5. Formulación de preguntas"
   ]
  },
  {
   "cell_type": "markdown",
   "metadata": {},
   "source": [
    "* ¿Cuantos goles se marcarón por liga la última temporada?\n",
    "* ¿Quién es el jugador con más goles por liga la última temporada?\n",
    "* ¿Quién es el jugador con más disparos por liga la última temporada?\n",
    "* Tasa de conversión de los máximos anotadores de la última temporada por liga (goals/shots)\n",
    "* Tasa de conversión de los máximos anotadores desde 2014 a 2020(goals/shots)\n",
    "* ¿Quién es el jugador con más asistencias por liga la última temporada?\n",
    "* ¿Equipo con más goles de local por liga la última temporada?\n",
    "* ¿Equipo con más goles de visitante por liga la última temporada?\n",
    "* ¿Cuál es el total de partidos por liga?\n",
    "* ¿Equipos con mayor Precisión del tiro por liga la última temporada? shotsOnTarget/shots (shooting accuracy)\n",
    "* ¿En que liga se empatarón más partidos en la última temporada?\n",
    "* ¿Cual es el porcentaje de partidos empatados por liga? (empatados/juegos)\n",
    "\n"
   ]
  },
  {
   "cell_type": "markdown",
   "metadata": {},
   "source": [
    "## 6. EDA"
   ]
  },
  {
   "cell_type": "markdown",
   "metadata": {},
   "source": [
    "### ¿Cuantos goles se marcarón por liga la última temporada?"
   ]
  },
  {
   "cell_type": "code",
   "execution_count": 37,
   "metadata": {},
   "outputs": [
    {
     "data": {
      "image/png": "[encoded data removed]",
      "text/plain": [
       "<Figure size 1080x432 with 1 Axes>"
      ]
     },
     "metadata": {
      "needs_background": "light"
     },
     "output_type": "display_data"
    }
   ],
   "source": [
    "#Filtro booleano\n",
    "temporada_2020= apariciones['season'] == 2020\n",
    "\n",
    "#Filtro de datos\n",
    "apariciones_2020 = apariciones[temporada_2020]\n",
    "apariciones_2020\n",
    "\n",
    "#agrupar por liga y suma goles\n",
    "golesxLiga_2020=apariciones_2020.groupby(['name_league', 'season']).sum()['goals'].reset_index()\n",
    "golesxLiga_2020\n",
    "\n",
    "#crear dataframe y gráfico de barras\n",
    "golesxLiga_2020_df=pd.DataFrame(golesxLiga_2020)\n",
    "golesxLiga_2020_df=golesxLiga_2020_df.sort_values(by=['goals'], ascending=False, ignore_index=True)\n",
    "plt.bar(golesxLiga_2020_df['name_league'], golesxLiga_2020_df['goals'], color=['g', 'gold', 'b', 'r', 'm'])\n",
    "plt.xticks(rotation=45)\n",
    "plt.rcParams[\"figure.figsize\"] = (10, 3)  \n",
    "plt.show()"
   ]
  },
  {
   "cell_type": "markdown",
   "metadata": {},
   "source": [
    "### ¿Quién es el jugador con más goles por liga la última temporada?\n"
   ]
  },
  {
   "cell_type": "code",
   "execution_count": 28,
   "metadata": {},
   "outputs": [
    {
     "data": {
      "image/png": "[encoded data removed]",
      "text/plain": [
       "<Figure size 1080x432 with 1 Axes>"
      ]
     },
     "metadata": {
      "needs_background": "light"
     },
     "output_type": "display_data"
    }
   ],
   "source": [
    "#agrupar por liga y suma goles\n",
    "max_anotador2020=apariciones_2020.groupby(['name_player', 'name_league', 'season']).sum()['goals']\n",
    "\n",
    "\n",
    "##crear dataframe y ordenar descendente goles\n",
    "max_anotador2020_df=pd.DataFrame(max_anotador2020)\n",
    "max_anotador2020_df=max_anotador2020_df.sort_values(by=['goals'], ascending=False)\n",
    "\n",
    "liga_maxgoles=max_anotador2020_df.reset_index().groupby(['name_league']).first() #maximo anotador por liga\n",
    "liga_maxgoles=liga_maxgoles.sort_values(by=['goals'], ascending=True)\n",
    "liga_maxgoles\n",
    "plt.barh(liga_maxgoles['name_player'], liga_maxgoles['goals'])\n",
    "plt.rcParams[\"figure.figsize\"] = (15, 6)  \n",
    "plt.show()"
   ]
  },
  {
   "cell_type": "markdown",
   "metadata": {},
   "source": [
    "### ¿Quién es el jugador con más disparos por liga la última temporada?"
   ]
  },
  {
   "cell_type": "code",
   "execution_count": 29,
   "metadata": {},
   "outputs": [
    {
     "data": {
      "image/png": "[encoded data removed]",
      "text/plain": [
       "<Figure size 1080x432 with 1 Axes>"
      ]
     },
     "metadata": {
      "needs_background": "light"
     },
     "output_type": "display_data"
    }
   ],
   "source": [
    "#agrupar por liga y suma goles\n",
    "max_tirador2020=apariciones_2020.groupby(['name_league', 'name_player', 'season']).sum()['shots']\n",
    "\n",
    "##crear dataframe y ordenar descendente goles\n",
    "max_tirador2020_df=pd.DataFrame(max_tirador2020)\n",
    "max_tirador2020_df=max_tirador2020_df.sort_values(by=['shots'], ascending=False)\n",
    "\n",
    "max_tirador2020_df=max_tirador2020_df.reset_index().groupby(['name_league']).first()\n",
    "max_tirador2020_df=max_tirador2020_df.sort_values(by=['shots'], ascending=True)\n",
    "plt.barh(max_tirador2020_df['name_player'], max_tirador2020_df['shots'])\n",
    "plt.rcParams[\"figure.figsize\"] = (15, 6)  \n",
    "plt.show()"
   ]
  },
  {
   "cell_type": "markdown",
   "metadata": {},
   "source": [
    "### Tasa de conversión de los máximos anotadores de la última temporada por liga (goals/shots) "
   ]
  },
  {
   "cell_type": "code",
   "execution_count": 11,
   "metadata": {},
   "outputs": [
    {
     "data": {
      "text/html": [
       "<div>\n",
       "<style scoped>\n",
       "    .dataframe tbody tr th:only-of-type {\n",
       "        vertical-align: middle;\n",
       "    }\n",
       "\n",
       "    .dataframe tbody tr th {\n",
       "        vertical-align: top;\n",
       "    }\n",
       "\n",
       "    .dataframe thead th {\n",
       "        text-align: right;\n",
       "    }\n",
       "</style>\n",
       "<table border=\"1\" class=\"dataframe\">\n",
       "  <thead>\n",
       "    <tr style=\"text-align: right;\">\n",
       "      <th></th>\n",
       "      <th>name_player</th>\n",
       "      <th>season</th>\n",
       "      <th>goals</th>\n",
       "      <th>shots</th>\n",
       "      <th>shot_conversion_rate</th>\n",
       "    </tr>\n",
       "    <tr>\n",
       "      <th>name_league</th>\n",
       "      <th></th>\n",
       "      <th></th>\n",
       "      <th></th>\n",
       "      <th></th>\n",
       "      <th></th>\n",
       "    </tr>\n",
       "  </thead>\n",
       "  <tbody>\n",
       "    <tr>\n",
       "      <th>Bundesliga</th>\n",
       "      <td>Robert Lewandowski</td>\n",
       "      <td>2020</td>\n",
       "      <td>41</td>\n",
       "      <td>135</td>\n",
       "      <td>30.370370</td>\n",
       "    </tr>\n",
       "    <tr>\n",
       "      <th>Ligue 1</th>\n",
       "      <td>Kylian Mbappe-Lottin</td>\n",
       "      <td>2020</td>\n",
       "      <td>27</td>\n",
       "      <td>103</td>\n",
       "      <td>26.213592</td>\n",
       "    </tr>\n",
       "    <tr>\n",
       "      <th>Serie A</th>\n",
       "      <td>Cristiano Ronaldo</td>\n",
       "      <td>2020</td>\n",
       "      <td>29</td>\n",
       "      <td>167</td>\n",
       "      <td>17.365269</td>\n",
       "    </tr>\n",
       "    <tr>\n",
       "      <th>Premier League</th>\n",
       "      <td>Harry Kane</td>\n",
       "      <td>2020</td>\n",
       "      <td>23</td>\n",
       "      <td>138</td>\n",
       "      <td>16.666667</td>\n",
       "    </tr>\n",
       "    <tr>\n",
       "      <th>La Liga</th>\n",
       "      <td>Lionel Messi</td>\n",
       "      <td>2020</td>\n",
       "      <td>30</td>\n",
       "      <td>195</td>\n",
       "      <td>15.384615</td>\n",
       "    </tr>\n",
       "  </tbody>\n",
       "</table>\n",
       "</div>"
      ],
      "text/plain": [
       "                         name_player  season  goals  shots  \\\n",
       "name_league                                                  \n",
       "Bundesliga        Robert Lewandowski    2020     41    135   \n",
       "Ligue 1         Kylian Mbappe-Lottin    2020     27    103   \n",
       "Serie A            Cristiano Ronaldo    2020     29    167   \n",
       "Premier League            Harry Kane    2020     23    138   \n",
       "La Liga                 Lionel Messi    2020     30    195   \n",
       "\n",
       "                shot_conversion_rate  \n",
       "name_league                           \n",
       "Bundesliga                 30.370370  \n",
       "Ligue 1                    26.213592  \n",
       "Serie A                    17.365269  \n",
       "Premier League             16.666667  \n",
       "La Liga                    15.384615  "
      ]
     },
     "execution_count": 11,
     "metadata": {},
     "output_type": "execute_result"
    }
   ],
   "source": [
    "columnas_interes = ['goals', 'shots']\n",
    "apariciones_2020[columnas_interes]\n",
    "\n",
    "#agrupar por liga y suma goles y disparos\n",
    "max_efect2020=apariciones_2020.groupby(['name_player', 'name_league', 'season']).sum()[columnas_interes]\n",
    "\n",
    "\n",
    "##crear dataframe y ordenar descendente goles\n",
    "max_efect2020_df=pd.DataFrame(max_efect2020)\n",
    "max_efect2020_df=max_efect2020_df.sort_values(by=['goals'], ascending=False)\n",
    "\n",
    "\n",
    "max_efect2020_df=max_efect2020_df.reset_index().groupby(['name_league']).first() #maximo anotador por liga\n",
    "\n",
    "#comparar disparos con goles de los maximos anotadores de cada liga(goals/shots)  Tasa de conversión de disparos\n",
    "max_efect2020_df['shot_conversion_rate'] = (max_efect2020_df['goals']/ max_efect2020_df['shots'])*100\n",
    "max_efect2020_df=max_efect2020_df.sort_values(by=['shot_conversion_rate'], ascending=False)\n",
    "max_efect2020_df"
   ]
  },
  {
   "cell_type": "markdown",
   "metadata": {},
   "source": [
    "### Tasa de conversión de los máximos anotadores desde 2014 a 2020(goals/shots)\n"
   ]
  },
  {
   "cell_type": "code",
   "execution_count": 30,
   "metadata": {},
   "outputs": [
    {
     "data": {
      "image/png": "[encoded data removed]",
      "text/plain": [
       "<Figure size 1080x432 with 1 Axes>"
      ]
     },
     "metadata": {
      "needs_background": "light"
     },
     "output_type": "display_data"
    }
   ],
   "source": [
    "#Filtro \n",
    "cond1 = apariciones['name_player'] == 'Cristiano Ronaldo'\n",
    "cond2 = apariciones['name_player'] == 'Lionel Messi'\n",
    "cond3 = apariciones['name_player'] == 'Robert Lewandowski'\n",
    "messi_cr7=apariciones[cond1 | cond2 | cond3]\n",
    "\n",
    "columnas_interes = ['goals', 'shots']\n",
    "apariciones_2020[columnas_interes]\n",
    "\n",
    "#agrupar por liga y suma goles y disparos\n",
    "messi_cr7=messi_cr7.groupby(['season', 'name_player', 'name_league']).sum()[columnas_interes]\n",
    "\n",
    "#comparar disparos con goles de los maximos anotadores de cada liga(goals/shots)  Tasa de conversión de disparos\n",
    "messi_cr7['shot_conversion_rate'] = (messi_cr7['goals']/ messi_cr7['shots'])*100\n",
    "messi_cr7=messi_cr7.sort_values(by=['season'], ascending=False).reset_index()\n",
    "\n",
    "# calculando datasets por jugador\n",
    "messi_rate = messi_cr7[messi_cr7['name_player'] == 'Lionel Messi']\n",
    "cristiano_rate= messi_cr7[messi_cr7['name_player'] == 'Cristiano Ronaldo']\n",
    "robert_rate= messi_cr7[messi_cr7['name_player'] == 'Robert Lewandowski']\n",
    "\n",
    "# haciendo la grafica\n",
    "plt.plot(messi_rate['season'], messi_rate['shot_conversion_rate'], label='Messi')\n",
    "plt.plot(cristiano_rate['season'], cristiano_rate['shot_conversion_rate'], label='C. Ronaldo')\n",
    "plt.plot(robert_rate['season'], robert_rate['shot_conversion_rate'], label='Lewandowski')\n",
    "plt.legend()\n",
    "plt.rcParams[\"figure.figsize\"] = (15, 6)  \n",
    "plt.show()"
   ]
  },
  {
   "cell_type": "markdown",
   "metadata": {},
   "source": [
    "### ¿Quién es el jugador con más asistencias por liga la última temporada?"
   ]
  },
  {
   "cell_type": "code",
   "execution_count": 31,
   "metadata": {},
   "outputs": [
    {
     "data": {
      "image/png": "[encoded data removed]",
      "text/plain": [
       "<Figure size 1080x432 with 1 Axes>"
      ]
     },
     "metadata": {
      "needs_background": "light"
     },
     "output_type": "display_data"
    }
   ],
   "source": [
    "#agrupar por liga y suma goles\n",
    "max_asistidor2020=apariciones_2020.groupby(['name_league', 'name_player', 'season']).sum()['assists']\n",
    "\n",
    "##crear dataframe y ordenar descendente asistencias\n",
    "max_asistidor2020_df=pd.DataFrame(max_asistidor2020)\n",
    "max_asistidor2020_df=max_asistidor2020_df.sort_values(by=['assists'], ascending=False)\n",
    "\n",
    "\n",
    "max_asistidor2020_df=max_asistidor2020_df.reset_index().groupby(['name_league']).first()\n",
    "max_asistidor2020_df=max_asistidor2020_df.sort_values(by=['assists'], ascending=True)\n",
    "plt.barh(max_asistidor2020_df['name_player'], max_asistidor2020_df['assists'])\n",
    "plt.rcParams[\"figure.figsize\"] = (15, 6)  \n",
    "plt.show()"
   ]
  },
  {
   "cell_type": "markdown",
   "metadata": {},
   "source": [
    "### Juegos"
   ]
  },
  {
   "cell_type": "markdown",
   "metadata": {},
   "source": [
    "\n",
    "### ¿Equipo con más goles de local por liga la última temporada?\n"
   ]
  },
  {
   "cell_type": "code",
   "execution_count": 14,
   "metadata": {},
   "outputs": [
    {
     "data": {
      "text/html": [
       "<div>\n",
       "<style scoped>\n",
       "    .dataframe tbody tr th:only-of-type {\n",
       "        vertical-align: middle;\n",
       "    }\n",
       "\n",
       "    .dataframe tbody tr th {\n",
       "        vertical-align: top;\n",
       "    }\n",
       "\n",
       "    .dataframe thead th {\n",
       "        text-align: right;\n",
       "    }\n",
       "</style>\n",
       "<table border=\"1\" class=\"dataframe\">\n",
       "  <thead>\n",
       "    <tr style=\"text-align: right;\">\n",
       "      <th></th>\n",
       "      <th>homeTeam</th>\n",
       "      <th>homeGoals</th>\n",
       "    </tr>\n",
       "    <tr>\n",
       "      <th>name_league</th>\n",
       "      <th></th>\n",
       "      <th></th>\n",
       "    </tr>\n",
       "  </thead>\n",
       "  <tbody>\n",
       "    <tr>\n",
       "      <th>Bundesliga</th>\n",
       "      <td>Bayern Munich</td>\n",
       "      <td>64</td>\n",
       "    </tr>\n",
       "    <tr>\n",
       "      <th>Serie A</th>\n",
       "      <td>Inter</td>\n",
       "      <td>53</td>\n",
       "    </tr>\n",
       "    <tr>\n",
       "      <th>La Liga</th>\n",
       "      <td>Barcelona</td>\n",
       "      <td>44</td>\n",
       "    </tr>\n",
       "    <tr>\n",
       "      <th>Ligue 1</th>\n",
       "      <td>Paris Saint Germain</td>\n",
       "      <td>44</td>\n",
       "    </tr>\n",
       "    <tr>\n",
       "      <th>Premier League</th>\n",
       "      <td>Manchester City</td>\n",
       "      <td>43</td>\n",
       "    </tr>\n",
       "  </tbody>\n",
       "</table>\n",
       "</div>"
      ],
      "text/plain": [
       "                           homeTeam  homeGoals\n",
       "name_league                                   \n",
       "Bundesliga            Bayern Munich         64\n",
       "Serie A                       Inter         53\n",
       "La Liga                   Barcelona         44\n",
       "Ligue 1         Paris Saint Germain         44\n",
       "Premier League      Manchester City         43"
      ]
     },
     "execution_count": 14,
     "metadata": {},
     "output_type": "execute_result"
    }
   ],
   "source": [
    " #¿Equipo con más goles de local por liga la última temporada?\n",
    "#Filtro booleano\n",
    "temporada_2020_teams= juegos['season'] == 2020\n",
    "\n",
    "#Filtro de datos\n",
    "temporada_2020_teams = juegos[temporada_2020_teams]\n",
    "\n",
    "\n",
    "#crear datafarame y ordenar de forma descendente\n",
    "homeGoals_2020_df=pd.DataFrame(temporada_2020_teams.groupby(['name_league', 'homeTeam']).sum()['homeGoals'])\n",
    "homeGoals_2020_df=homeGoals_2020_df.sort_values(by=['homeGoals'], ascending=False)\n",
    "\n",
    "#obtener el primero de cada liga\n",
    "homeGoals_2020_df=homeGoals_2020_df.reset_index().groupby(['name_league']).first()\n",
    "homeGoals_2020_df=homeGoals_2020_df.sort_values(by=['homeGoals'], ascending=False)\n",
    "homeGoals_2020_df"
   ]
  },
  {
   "cell_type": "markdown",
   "metadata": {},
   "source": [
    "### ¿Equipo con más goles de visitante por liga la última temporada?\n"
   ]
  },
  {
   "cell_type": "code",
   "execution_count": 15,
   "metadata": {},
   "outputs": [
    {
     "data": {
      "text/html": [
       "<div>\n",
       "<style scoped>\n",
       "    .dataframe tbody tr th:only-of-type {\n",
       "        vertical-align: middle;\n",
       "    }\n",
       "\n",
       "    .dataframe tbody tr th {\n",
       "        vertical-align: top;\n",
       "    }\n",
       "\n",
       "    .dataframe thead th {\n",
       "        text-align: right;\n",
       "    }\n",
       "</style>\n",
       "<table border=\"1\" class=\"dataframe\">\n",
       "  <thead>\n",
       "    <tr style=\"text-align: right;\">\n",
       "      <th></th>\n",
       "      <th>awayTeam</th>\n",
       "      <th>awayGoals</th>\n",
       "    </tr>\n",
       "    <tr>\n",
       "      <th>name_league</th>\n",
       "      <th></th>\n",
       "      <th></th>\n",
       "    </tr>\n",
       "  </thead>\n",
       "  <tbody>\n",
       "    <tr>\n",
       "      <th>Serie A</th>\n",
       "      <td>AC Milan</td>\n",
       "      <td>43</td>\n",
       "    </tr>\n",
       "    <tr>\n",
       "      <th>Ligue 1</th>\n",
       "      <td>Paris Saint Germain</td>\n",
       "      <td>42</td>\n",
       "    </tr>\n",
       "    <tr>\n",
       "      <th>La Liga</th>\n",
       "      <td>Barcelona</td>\n",
       "      <td>41</td>\n",
       "    </tr>\n",
       "    <tr>\n",
       "      <th>Premier League</th>\n",
       "      <td>Manchester City</td>\n",
       "      <td>40</td>\n",
       "    </tr>\n",
       "    <tr>\n",
       "      <th>Bundesliga</th>\n",
       "      <td>Borussia Dortmund</td>\n",
       "      <td>35</td>\n",
       "    </tr>\n",
       "  </tbody>\n",
       "</table>\n",
       "</div>"
      ],
      "text/plain": [
       "                           awayTeam  awayGoals\n",
       "name_league                                   \n",
       "Serie A                    AC Milan         43\n",
       "Ligue 1         Paris Saint Germain         42\n",
       "La Liga                   Barcelona         41\n",
       "Premier League      Manchester City         40\n",
       "Bundesliga        Borussia Dortmund         35"
      ]
     },
     "execution_count": 15,
     "metadata": {},
     "output_type": "execute_result"
    }
   ],
   "source": [
    " #¿Equipo con más goles de visitante por liga la última temporada?\n",
    "\n",
    "#crear datafarame y ordenar de forma descendente\n",
    "awayGoals_2020_df=pd.DataFrame(temporada_2020_teams.groupby(['name_league', 'awayTeam']).sum()['awayGoals'])\n",
    "awayGoals_2020_df=awayGoals_2020_df.sort_values(by=['awayGoals'], ascending=False)\n",
    "\n",
    "#obtener el primero de cada liga\n",
    "awayGoals_2020_df=awayGoals_2020_df.reset_index().groupby(['name_league']).first()\n",
    "awayGoals_2020_df=awayGoals_2020_df.sort_values(by=['awayGoals'], ascending=False)\n",
    "awayGoals_2020_df"
   ]
  },
  {
   "cell_type": "markdown",
   "metadata": {},
   "source": [
    "### ¿Cuál es el total de partidos por liga la última temporada?\n"
   ]
  },
  {
   "cell_type": "code",
   "execution_count": 16,
   "metadata": {},
   "outputs": [
    {
     "data": {
      "text/html": [
       "<div>\n",
       "<style scoped>\n",
       "    .dataframe tbody tr th:only-of-type {\n",
       "        vertical-align: middle;\n",
       "    }\n",
       "\n",
       "    .dataframe tbody tr th {\n",
       "        vertical-align: top;\n",
       "    }\n",
       "\n",
       "    .dataframe thead th {\n",
       "        text-align: right;\n",
       "    }\n",
       "</style>\n",
       "<table border=\"1\" class=\"dataframe\">\n",
       "  <thead>\n",
       "    <tr style=\"text-align: right;\">\n",
       "      <th></th>\n",
       "      <th>name_league</th>\n",
       "      <th>total_games</th>\n",
       "    </tr>\n",
       "  </thead>\n",
       "  <tbody>\n",
       "    <tr>\n",
       "      <th>0</th>\n",
       "      <td>Bundesliga</td>\n",
       "      <td>306</td>\n",
       "    </tr>\n",
       "    <tr>\n",
       "      <th>1</th>\n",
       "      <td>La Liga</td>\n",
       "      <td>380</td>\n",
       "    </tr>\n",
       "    <tr>\n",
       "      <th>2</th>\n",
       "      <td>Ligue 1</td>\n",
       "      <td>380</td>\n",
       "    </tr>\n",
       "    <tr>\n",
       "      <th>3</th>\n",
       "      <td>Premier League</td>\n",
       "      <td>380</td>\n",
       "    </tr>\n",
       "    <tr>\n",
       "      <th>4</th>\n",
       "      <td>Serie A</td>\n",
       "      <td>380</td>\n",
       "    </tr>\n",
       "  </tbody>\n",
       "</table>\n",
       "</div>"
      ],
      "text/plain": [
       "      name_league  total_games\n",
       "0      Bundesliga          306\n",
       "1         La Liga          380\n",
       "2         Ligue 1          380\n",
       "3  Premier League          380\n",
       "4         Serie A          380"
      ]
     },
     "execution_count": 16,
     "metadata": {},
     "output_type": "execute_result"
    }
   ],
   "source": [
    "\n",
    "num_juegos=pd.DataFrame(temporada_2020_teams.groupby('name_league').count()['gameID'])\n",
    "num_juegos = num_juegos.rename(columns={'gameID':'total_games'}).reset_index()\n",
    "num_juegos"
   ]
  },
  {
   "cell_type": "markdown",
   "metadata": {},
   "source": [
    "### ¿Equipos con mayor Precisión del tiro por liga la última temporada? shotsOnTarget/shots (shooting accuracy)\n"
   ]
  },
  {
   "cell_type": "code",
   "execution_count": 18,
   "metadata": {},
   "outputs": [
    {
     "data": {
      "text/html": [
       "<div>\n",
       "<style scoped>\n",
       "    .dataframe tbody tr th:only-of-type {\n",
       "        vertical-align: middle;\n",
       "    }\n",
       "\n",
       "    .dataframe tbody tr th {\n",
       "        vertical-align: top;\n",
       "    }\n",
       "\n",
       "    .dataframe thead th {\n",
       "        text-align: right;\n",
       "    }\n",
       "</style>\n",
       "<table border=\"1\" class=\"dataframe\">\n",
       "  <thead>\n",
       "    <tr style=\"text-align: right;\">\n",
       "      <th></th>\n",
       "      <th>name_league</th>\n",
       "      <th>name_team</th>\n",
       "      <th>season</th>\n",
       "      <th>shotsOnTarget</th>\n",
       "      <th>shots</th>\n",
       "      <th>shooting_accuracy</th>\n",
       "    </tr>\n",
       "  </thead>\n",
       "  <tbody>\n",
       "    <tr>\n",
       "      <th>0</th>\n",
       "      <td>Bundesliga</td>\n",
       "      <td>Bayern Munich</td>\n",
       "      <td>2020</td>\n",
       "      <td>234</td>\n",
       "      <td>576</td>\n",
       "      <td>0.406250</td>\n",
       "    </tr>\n",
       "    <tr>\n",
       "      <th>1</th>\n",
       "      <td>La Liga</td>\n",
       "      <td>Barcelona</td>\n",
       "      <td>2020</td>\n",
       "      <td>242</td>\n",
       "      <td>582</td>\n",
       "      <td>0.415808</td>\n",
       "    </tr>\n",
       "    <tr>\n",
       "      <th>2</th>\n",
       "      <td>Ligue 1</td>\n",
       "      <td>Lyon</td>\n",
       "      <td>2020</td>\n",
       "      <td>238</td>\n",
       "      <td>612</td>\n",
       "      <td>0.388889</td>\n",
       "    </tr>\n",
       "    <tr>\n",
       "      <th>3</th>\n",
       "      <td>Premier League</td>\n",
       "      <td>Manchester United</td>\n",
       "      <td>2020</td>\n",
       "      <td>212</td>\n",
       "      <td>525</td>\n",
       "      <td>0.403810</td>\n",
       "    </tr>\n",
       "    <tr>\n",
       "      <th>4</th>\n",
       "      <td>Serie A</td>\n",
       "      <td>Atalanta</td>\n",
       "      <td>2020</td>\n",
       "      <td>232</td>\n",
       "      <td>621</td>\n",
       "      <td>0.373591</td>\n",
       "    </tr>\n",
       "  </tbody>\n",
       "</table>\n",
       "</div>"
      ],
      "text/plain": [
       "      name_league          name_team  season  shotsOnTarget  shots  \\\n",
       "0      Bundesliga      Bayern Munich    2020            234    576   \n",
       "1         La Liga          Barcelona    2020            242    582   \n",
       "2         Ligue 1               Lyon    2020            238    612   \n",
       "3  Premier League  Manchester United    2020            212    525   \n",
       "4         Serie A           Atalanta    2020            232    621   \n",
       "\n",
       "   shooting_accuracy  \n",
       "0           0.406250  \n",
       "1           0.415808  \n",
       "2           0.388889  \n",
       "3           0.403810  \n",
       "4           0.373591  "
      ]
     },
     "execution_count": 18,
     "metadata": {},
     "output_type": "execute_result"
    }
   ],
   "source": [
    "#Filtro booleano\n",
    "equipos_2020= equipos['season'] == 2020\n",
    "\n",
    "#Filtro de datos\n",
    "equipos_2020 = equipos[equipos_2020]\n",
    "\n",
    "columnas_interes2 = ['shotsOnTarget', 'shots']\n",
    "equipos_2020[columnas_interes2]\n",
    "\n",
    "#agrupar por liga y suma disparos a puerta y disparos\n",
    "precision_tiros=equipos_2020.groupby(['name_league', 'name_team', 'season']).sum()[columnas_interes2]\n",
    "\n",
    "#A calculation of Shots on target divided by all shots(shotsOnTarget/shots)  precisión de tiro\n",
    "precision_tiros['shooting_accuracy'] = (precision_tiros['shotsOnTarget']/ precision_tiros['shots'])\n",
    "precision_tiros=precision_tiros.sort_values(by=['shooting_accuracy'], ascending=False).reset_index()\n",
    "precision_tiros=precision_tiros.groupby(['name_league']).first()\n",
    "precision_tiros= precision_tiros.reset_index()\n",
    "precision_tiros"
   ]
  },
  {
   "cell_type": "markdown",
   "metadata": {},
   "source": [
    "### ¿En que liga se empatarón más partidos en la última temporada?\n"
   ]
  },
  {
   "cell_type": "code",
   "execution_count": 42,
   "metadata": {},
   "outputs": [
    {
     "data": {
      "image/png": "[encoded data removed]",
      "text/plain": [
       "<Figure size 1080x432 with 1 Axes>"
      ]
     },
     "metadata": {
      "needs_background": "light"
     },
     "output_type": "display_data"
    }
   ],
   "source": [
    "empates_2020=equipos_2020[equipos_2020['result'] == 'D']\n",
    "empates_df=pd.DataFrame(empates_2020.groupby('name_league').count()['result'])\n",
    "empates_df=empates_df.sort_values(by='result', ascending=False).reset_index()\n",
    "empates_df = empates_df.rename(columns={'result':'total_draw'})\n",
    "plt.bar(empates_df['name_league'], empates_df['total_draw'], color=['g', 'gold', 'b', 'r', 'm'])\n",
    "plt.xticks(rotation=45)\n",
    "plt.rcParams[\"figure.figsize\"] = (10, 6)  \n",
    "plt.show()"
   ]
  },
  {
   "cell_type": "markdown",
   "metadata": {},
   "source": [
    "### ¿Cual es el porcentaje de partidos empatados por liga? (empatados/juegos)\n"
   ]
  },
  {
   "cell_type": "code",
   "execution_count": 44,
   "metadata": {},
   "outputs": [
    {
     "data": {
      "text/html": [
       "<div>\n",
       "<style scoped>\n",
       "    .dataframe tbody tr th:only-of-type {\n",
       "        vertical-align: middle;\n",
       "    }\n",
       "\n",
       "    .dataframe tbody tr th {\n",
       "        vertical-align: top;\n",
       "    }\n",
       "\n",
       "    .dataframe thead th {\n",
       "        text-align: right;\n",
       "    }\n",
       "</style>\n",
       "<table border=\"1\" class=\"dataframe\">\n",
       "  <thead>\n",
       "    <tr style=\"text-align: right;\">\n",
       "      <th></th>\n",
       "      <th>index</th>\n",
       "      <th>name_league</th>\n",
       "      <th>total_games</th>\n",
       "      <th>total_draw</th>\n",
       "      <th>draw_rate</th>\n",
       "    </tr>\n",
       "  </thead>\n",
       "  <tbody>\n",
       "    <tr>\n",
       "      <th>0</th>\n",
       "      <td>1</td>\n",
       "      <td>La Liga</td>\n",
       "      <td>380</td>\n",
       "      <td>218</td>\n",
       "      <td>57.368421</td>\n",
       "    </tr>\n",
       "    <tr>\n",
       "      <th>1</th>\n",
       "      <td>0</td>\n",
       "      <td>Bundesliga</td>\n",
       "      <td>306</td>\n",
       "      <td>162</td>\n",
       "      <td>52.941176</td>\n",
       "    </tr>\n",
       "    <tr>\n",
       "      <th>2</th>\n",
       "      <td>4</td>\n",
       "      <td>Serie A</td>\n",
       "      <td>380</td>\n",
       "      <td>194</td>\n",
       "      <td>51.052632</td>\n",
       "    </tr>\n",
       "    <tr>\n",
       "      <th>3</th>\n",
       "      <td>2</td>\n",
       "      <td>Ligue 1</td>\n",
       "      <td>380</td>\n",
       "      <td>190</td>\n",
       "      <td>50.000000</td>\n",
       "    </tr>\n",
       "    <tr>\n",
       "      <th>4</th>\n",
       "      <td>3</td>\n",
       "      <td>Premier League</td>\n",
       "      <td>380</td>\n",
       "      <td>166</td>\n",
       "      <td>43.684211</td>\n",
       "    </tr>\n",
       "  </tbody>\n",
       "</table>\n",
       "</div>"
      ],
      "text/plain": [
       "   index     name_league  total_games  total_draw  draw_rate\n",
       "0      1         La Liga          380         218  57.368421\n",
       "1      0      Bundesliga          306         162  52.941176\n",
       "2      4         Serie A          380         194  51.052632\n",
       "3      2         Ligue 1          380         190  50.000000\n",
       "4      3  Premier League          380         166  43.684211"
      ]
     },
     "execution_count": 44,
     "metadata": {},
     "output_type": "execute_result"
    }
   ],
   "source": [
    "porcetaje_empate = pd.merge(num_juegos, empates_df[['total_draw', 'name_league']], on=[\"name_league\"])\n",
    "\n",
    "#comparación partidos totales con empatados (total_draw/total_games)*100\n",
    "porcetaje_empate['draw_rate'] = (porcetaje_empate['total_draw']/ porcetaje_empate['total_games'])*100\n",
    "porcetaje_empate=porcetaje_empate.sort_values(by=['draw_rate'], ascending=False).reset_index()\n",
    "porcetaje_empate"
   ]
  },
  {
   "cell_type": "code",
   "execution_count": null,
   "metadata": {},
   "outputs": [],
   "source": [
    "porcetaje_empate"
   ]
  },
  {
   "cell_type": "code",
   "execution_count": null,
   "metadata": {},
   "outputs": [],
   "source": [
    "## pasos del EDA para desarrollo de articulo\n",
    "## grafica de porcentajes por liga\n",
    "## decimales \n",
    "## en diagonal etiquetas barras\n",
    "\n"
   ]
  }
 ],
 "metadata": {
  "kernelspec": {
   "display_name": "Python 3",
   "language": "python",
   "name": "python3"
  },
  "language_info": {
   "codemirror_mode": {
    "name": "ipython",
    "version": 3
   },
   "file_extension": ".py",
   "mimetype": "text/x-python",
   "name": "python",
   "nbconvert_exporter": "python",
   "pygments_lexer": "ipython3",
   "version": "3.7.6"
  }
 },
 "nbformat": 4,
 "nbformat_minor": 4
}
